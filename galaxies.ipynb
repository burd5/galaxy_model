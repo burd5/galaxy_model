{
  "nbformat": 4,
  "nbformat_minor": 0,
  "metadata": {
    "colab": {
      "provenance": [],
      "authorship_tag": "ABX9TyNmcONu8NHSNVI7Uvx+0Ov9",
      "include_colab_link": true
    },
    "kernelspec": {
      "name": "python3",
      "display_name": "Python 3"
    },
    "language_info": {
      "name": "python"
    }
  },
  "cells": [
    {
      "cell_type": "markdown",
      "metadata": {
        "id": "view-in-github",
        "colab_type": "text"
      },
      "source": [
        "<a href=\"https://colab.research.google.com/github/burd5/galaxy_model/blob/main/galaxies.ipynb\" target=\"_parent\"><img src=\"https://colab.research.google.com/assets/colab-badge.svg\" alt=\"Open In Colab\"/></a>"
      ]
    },
    {
      "cell_type": "code",
      "execution_count": 2,
      "metadata": {
        "colab": {
          "base_uri": "https://localhost:8080/"
        },
        "id": "pXu4sFZYT6l0",
        "outputId": "7e431e6a-c6f3-4122-f897-35dfff9736cb"
      },
      "outputs": [
        {
          "output_type": "stream",
          "name": "stdout",
          "text": [
            "Mounted at /content/gdrive\n"
          ]
        }
      ],
      "source": [
        "! [ -e /content ] && pip install -Uqq fastbook\n",
        "import fastbook\n",
        "fastbook.setup_book()"
      ]
    },
    {
      "cell_type": "code",
      "source": [
        "from fastbook import *\n",
        "from fastai.vision.widgets import *\n",
        "import pandas as pd"
      ],
      "metadata": {
        "id": "E3Fm5DfSULUw"
      },
      "execution_count": 3,
      "outputs": []
    },
    {
      "cell_type": "code",
      "execution_count": 5,
      "metadata": {
        "id": "Z6ZlfSSHUakt",
        "colab": {
          "base_uri": "https://localhost:8080/"
        },
        "outputId": "afe7e74b-a9d2-4b91-e4f0-555ffb874ca1"
      },
      "outputs": [
        {
          "output_type": "execute_result",
          "data": {
            "text/plain": [
              "['Antennae Galaxies',\n",
              " 'Aquarius Dwarf',\n",
              " 'Atoms-for-Peace',\n",
              " 'Backward Galaxy',\n",
              " \"Barnard's Galaxy\",\n",
              " \"Bear's Paw\",\n",
              " 'Black Eye Galaxy',\n",
              " \"Bode's Galaxy\",\n",
              " \"Burbidge's Chain\",\n",
              " 'Butterfly Galaxies',\n",
              " 'Carafe Group',\n",
              " 'Carina Dwarf',\n",
              " 'Cartwheel Galaxy',\n",
              " 'Centaurus A',\n",
              " 'Cetus A',\n",
              " 'Cigar Galaxy',\n",
              " 'Circinus Galaxy',\n",
              " \"Coddington's Nebula\",\n",
              " 'Coma Cluster',\n",
              " 'Coma Pinwheel Galaxy',\n",
              " 'Comet Galaxy',\n",
              " 'Copeland Septet',\n",
              " 'Cosmos Redshift 7',\n",
              " 'Cygnus A',\n",
              " 'Draco Dwarf',\n",
              " 'Eye of Sauron',\n",
              " 'Eyes Galaxies',\n",
              " 'Fath 703',\n",
              " 'Fireworks Galaxy',\n",
              " 'Fornax A',\n",
              " 'Fornax Dwarf',\n",
              " 'Fourcade-Figueroa object',\n",
              " 'Grus Quartet',\n",
              " 'Hardcastle Nebula',\n",
              " 'Helix Galaxy',\n",
              " 'Hercules A',\n",
              " \"Hoag's Object\",\n",
              " 'Hockey Stick Galaxy',\n",
              " 'Hydra A',\n",
              " 'Integral Sign Galaxy',\n",
              " \"Keenan's System\",\n",
              " \"Kowal's Object\",\n",
              " 'Large Magellanic Cloud',\n",
              " 'Leo I',\n",
              " 'Leo II',\n",
              " 'Leo III',\n",
              " 'Leo Triplet',\n",
              " 'Lindsay-Shapley Ring',\n",
              " 'Little Sombrero Galaxy',\n",
              " 'Maffei I',\n",
              " 'Maffei II',\n",
              " 'Malin 1',\n",
              " \"Mayall's Object\",\n",
              " \"McLeish's Object\",\n",
              " 'Medusa Merger',\n",
              " 'Messier 110',\n",
              " 'Messier 32',\n",
              " 'Mice Galaxies',\n",
              " \"Minkowski's Object\",\n",
              " 'Needle Galaxy',\n",
              " 'Pegasus Dwarf',\n",
              " 'Perseus A',\n",
              " 'Phoenix Dwarf',\n",
              " 'Pinwheel Galaxy',\n",
              " 'Pisces Cloud',\n",
              " 'Pisces Dwarf',\n",
              " 'Reinmuth 80',\n",
              " 'Sagittarius Dwarf',\n",
              " 'Sculptor Dwarf Galaxy',\n",
              " 'Sculptor Galaxy',\n",
              " 'Seashell Galaxy',\n",
              " 'Sextans A',\n",
              " 'Sextans B',\n",
              " \"Seyfert's Sextet\",\n",
              " 'Small Magellanic Cloud',\n",
              " 'Sombrero Galaxy',\n",
              " 'Southern Pinwheel Galaxy',\n",
              " 'Spindle Galaxy',\n",
              " 'Spindle Galaxy',\n",
              " \"Stephan's Quintet\",\n",
              " 'Sunflower Galaxy',\n",
              " 'Tadpole Galaxy',\n",
              " 'The Guitar',\n",
              " 'Triangulum Galaxy',\n",
              " 'Ursa Minor Dwarf',\n",
              " 'Virgo A',\n",
              " 'Whale galaxy',\n",
              " 'Whirlpool Galaxy',\n",
              " \"Wild's Triplet\",\n",
              " 'Wolf-Lundmark-Melotte']"
            ]
          },
          "metadata": {},
          "execution_count": 5
        }
      ],
      "source": [
        "tables = pd.read_html('https://www.go-astronomy.com/galaxies-all.php')\n",
        "galaxies_df = tables[0]\n",
        "galaxies = galaxies_df.to_dict('records')\n",
        "galaxy_names = [key['GALAXY'] for key in galaxies]\n",
        "galaxy_names"
      ]
    },
    {
      "cell_type": "code",
      "source": [
        "key = os.environ.get('AZURE_SEARCH_KEY', '078fcd507238414386fcacd0899508dc')"
      ],
      "metadata": {
        "id": "Ox7aDUaMW79X"
      },
      "execution_count": 6,
      "outputs": []
    },
    {
      "cell_type": "code",
      "execution_count": 8,
      "metadata": {
        "id": "Jvh1mOYMRtVm",
        "outputId": "f757dd9e-4eb4-4860-e651-1620508140ea",
        "colab": {
          "base_uri": "https://localhost:8080/",
          "height": 35
        }
      },
      "outputs": [
        {
          "output_type": "execute_result",
          "data": {
            "text/plain": [
              "'https://scitechdaily.com/images/Amazing-Hubble-Image-of-Spiral-Galaxy-NGC-7331.jpg'"
            ],
            "application/vnd.google.colaboratory.intrinsic+json": {
              "type": "string"
            }
          },
          "metadata": {},
          "execution_count": 8
        }
      ],
      "source": [
        "results = search_images_bing(key, 'galaxies')\n",
        "ims = results.attrgot('contentUrl')\n",
        "len(ims)\n",
        "ims[0]"
      ]
    }
  ]
}